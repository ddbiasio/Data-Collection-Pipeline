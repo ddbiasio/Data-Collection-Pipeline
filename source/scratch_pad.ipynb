{
 "cells": [
  {
   "cell_type": "code",
   "execution_count": 7,
   "metadata": {},
   "outputs": [],
   "source": [
    "import configparser\n",
    "from file_storage import FileStorage\n",
    "import pandas as pd\n",
    "from pandas import json_normalize\n",
    "import json\n",
    "from db_storage import DBStorage"
   ]
  },
  {
   "cell_type": "code",
   "execution_count": 8,
   "metadata": {},
   "outputs": [
    {
     "data": {
      "text/plain": [
       "[{'method_step': 'STEP 1',\n",
       "  'method_instructions': 'Roughly chop 1 large onion, transfer to a small food processor, and add 3 tbsp of water - process to a slack paste. You could use a stick blender for this or coarsely grate the onion into a bowl – there’s no need to add any water if you are grating the onion. Tip into a small bowl and leave on one side.'},\n",
       " {'method_step': 'STEP 2',\n",
       "  'method_instructions': 'Put 6 roughly chopped garlic cloves and 50g roughly chopped ginger into the same food processor and add 4 tbsp water – process until smooth and spoon into another small bowl. Alternatively, crush the garlic to a paste with a knife or garlic press and finely grate the ginger.'},\n",
       " {'method_step': 'STEP 3',\n",
       "  'method_instructions': 'Heat 4 tbsp vegetable oil in a wok or sturdy pan set over a medium heat.'},\n",
       " {'method_step': 'STEP 4',\n",
       "  'method_instructions': 'Combine 2 tsp cumin seeds and 1 tsp fennel seeds with a 5cm cinnamon stick and 1 tsp chilli flakes and add to the pan in one go. Swirl everything around for about 30 secs until the spices release a fragrant aroma.'},\n",
       " {'method_step': 'STEP 5',\n",
       "  'method_instructions': 'Add the onion paste – it will splutter in the beginning. Fry until the water evaporates and the onions turn a lovely dark golden - this should take about 7-8 mins.'},\n",
       " {'method_step': 'STEP 6',\n",
       "  'method_instructions': 'Add the garlic and ginger paste and cook for another 2 mins – stirring all the time.'},\n",
       " {'method_step': 'STEP 7',\n",
       "  'method_instructions': 'Stir in 1 tsp garam masala, 1 tsp turmeric, and 1 tsp caster sugar and continue cooking for 20 secs before tipping in a 400g can chopped tomatoes.'},\n",
       " {'method_step': 'STEP 8',\n",
       "  'method_instructions': 'Continue cooking on a medium heat for about 10 mins without a lid until the tomatoes reduce and darken.'},\n",
       " {'method_step': 'STEP 9',\n",
       "  'method_instructions': 'Cut 8 skinless, boneless chicken thighs into 3cm chunks and add to the pan once the tomatoes have thickened to a paste.'},\n",
       " {'method_step': 'STEP 10',\n",
       "  'method_instructions': 'Cook for 5 mins to coat the chicken in the masala and seal in the juices, and then pour over 250ml hot chicken stock.'},\n",
       " {'method_step': 'STEP 11',\n",
       "  'method_instructions': 'Simmer for 8-10 mins without a lid until the chicken is tender and the masala lightly thickened – you might need to add an extra ladleful of stock or water if the curry needs it.'},\n",
       " {'method_step': 'STEP 12',\n",
       "  'method_instructions': 'Sprinkle with 2 tbsp chopped coriander and serve with Indian flatbreads or fluffy basmati rice and a pot of yogurt on the side.'}]"
      ]
     },
     "execution_count": 8,
     "metadata": {},
     "output_type": "execute_result"
    }
   ],
   "source": [
    "\n",
    "fs = FileStorage(\"/home/siobhan/code/projects/Data-Collection-Pipeline/raw_data\")\n",
    "data_folder = f\"{fs.root_folder}/chicken\"\n",
    "file_list = fs.list_files(data_folder)\n",
    "recipe_list = []\n",
    "for file in file_list:\n",
    "    with open(file, \"r\") as json_file:\n",
    "        if not \".json\" in json_file.name:\n",
    "            pass\n",
    "        else:\n",
    "            item_json = fs.read_json_file(file)\n",
    "            recipe_list.append(item_json)\n",
    "            #print(item_json.keys())\n",
    "\n",
    "df_ingred = json_normalize(\n",
    "    recipe_list,\n",
    "    record_path=['ingredients'],\n",
    "    meta=['item_id'],\n",
    "    sep=\"_\"\n",
    ")\n",
    "\n",
    "recipe_list[0]['method']\n"
   ]
  },
  {
   "cell_type": "code",
   "execution_count": 9,
   "metadata": {},
   "outputs": [
    {
     "data": {
      "text/html": [
       "<div>\n",
       "<style scoped>\n",
       "    .dataframe tbody tr th:only-of-type {\n",
       "        vertical-align: middle;\n",
       "    }\n",
       "\n",
       "    .dataframe tbody tr th {\n",
       "        vertical-align: top;\n",
       "    }\n",
       "\n",
       "    .dataframe thead th {\n",
       "        text-align: right;\n",
       "    }\n",
       "</style>\n",
       "<table border=\"1\" class=\"dataframe\">\n",
       "  <thead>\n",
       "    <tr style=\"text-align: right;\">\n",
       "      <th></th>\n",
       "      <th>0</th>\n",
       "      <th>item_id</th>\n",
       "    </tr>\n",
       "  </thead>\n",
       "  <tbody>\n",
       "    <tr>\n",
       "      <th>0</th>\n",
       "      <td>1 large onion</td>\n",
       "      <td>home-style-chicken-curry</td>\n",
       "    </tr>\n",
       "    <tr>\n",
       "      <th>1</th>\n",
       "      <td>6 garlic cloves, roughly chopped</td>\n",
       "      <td>home-style-chicken-curry</td>\n",
       "    </tr>\n",
       "    <tr>\n",
       "      <th>2</th>\n",
       "      <td>50g ginger, roughly chopped</td>\n",
       "      <td>home-style-chicken-curry</td>\n",
       "    </tr>\n",
       "    <tr>\n",
       "      <th>3</th>\n",
       "      <td>4 tbsp vegetable oil</td>\n",
       "      <td>home-style-chicken-curry</td>\n",
       "    </tr>\n",
       "    <tr>\n",
       "      <th>4</th>\n",
       "      <td>2 tsp cumin seeds</td>\n",
       "      <td>home-style-chicken-curry</td>\n",
       "    </tr>\n",
       "    <tr>\n",
       "      <th>...</th>\n",
       "      <td>...</td>\n",
       "      <td>...</td>\n",
       "    </tr>\n",
       "    <tr>\n",
       "      <th>277</th>\n",
       "      <td>75g chorizo, sliced</td>\n",
       "      <td>chicken-chorizo-jambalaya</td>\n",
       "    </tr>\n",
       "    <tr>\n",
       "      <th>278</th>\n",
       "      <td>1 tbsp Cajun seasoning</td>\n",
       "      <td>chicken-chorizo-jambalaya</td>\n",
       "    </tr>\n",
       "    <tr>\n",
       "      <th>279</th>\n",
       "      <td>250g long grain rice</td>\n",
       "      <td>chicken-chorizo-jambalaya</td>\n",
       "    </tr>\n",
       "    <tr>\n",
       "      <th>280</th>\n",
       "      <td>400g can plum tomato</td>\n",
       "      <td>chicken-chorizo-jambalaya</td>\n",
       "    </tr>\n",
       "    <tr>\n",
       "      <th>281</th>\n",
       "      <td>350ml chicken stock</td>\n",
       "      <td>chicken-chorizo-jambalaya</td>\n",
       "    </tr>\n",
       "  </tbody>\n",
       "</table>\n",
       "<p>282 rows × 2 columns</p>\n",
       "</div>"
      ],
      "text/plain": [
       "                                    0                    item_id\n",
       "0                       1 large onion   home-style-chicken-curry\n",
       "1    6 garlic cloves, roughly chopped   home-style-chicken-curry\n",
       "2         50g ginger, roughly chopped   home-style-chicken-curry\n",
       "3                4 tbsp vegetable oil   home-style-chicken-curry\n",
       "4                   2 tsp cumin seeds   home-style-chicken-curry\n",
       "..                                ...                        ...\n",
       "277               75g chorizo, sliced  chicken-chorizo-jambalaya\n",
       "278            1 tbsp Cajun seasoning  chicken-chorizo-jambalaya\n",
       "279              250g long grain rice  chicken-chorizo-jambalaya\n",
       "280              400g can plum tomato  chicken-chorizo-jambalaya\n",
       "281               350ml chicken stock  chicken-chorizo-jambalaya\n",
       "\n",
       "[282 rows x 2 columns]"
      ]
     },
     "execution_count": 9,
     "metadata": {},
     "output_type": "execute_result"
    }
   ],
   "source": [
    "df_ingred"
   ]
  },
  {
   "cell_type": "code",
   "execution_count": null,
   "metadata": {},
   "outputs": [],
   "source": [
    "\n",
    "df_method = json_normalize(\n",
    "    recipe_list,\n",
    "    record_path=['method'],\n",
    "    meta=['item_id'],\n",
    "    sep=\"_\"\n",
    ")\n",
    "\n",
    "df_method"
   ]
  },
  {
   "cell_type": "code",
   "execution_count": null,
   "metadata": {},
   "outputs": [],
   "source": [
    "df_nutritional_info = json_normalize(\n",
    "    recipe_list,\n",
    "    record_path=['nutritional_info'],\n",
    "    meta=['item_id'],\n",
    "    sep=\"_\")\n"
   ]
  },
  {
   "cell_type": "code",
   "execution_count": null,
   "metadata": {},
   "outputs": [],
   "source": [
    "df_planning_info = json_normalize(\n",
    "    recipe_list,\n",
    "    record_path=['planning_info'],\n",
    "    meta=['item_id'],\n",
    "    sep=\"_\"\n",
    ") \n",
    "df_planning_info"
   ]
  },
  {
   "cell_type": "code",
   "execution_count": null,
   "metadata": {},
   "outputs": [],
   "source": [
    "json_normalize(recipe_list).describe()"
   ]
  },
  {
   "cell_type": "code",
   "execution_count": null,
   "metadata": {},
   "outputs": [],
   "source": [
    "df_recipe = (\n",
    "    json_normalize(recipe_list)\n",
    "        [['item_id', \n",
    "        'recipe_name', \n",
    "        'item_UUID',\n",
    "        'image_urls']].copy())\n",
    "df_recipe.set_index('item_id')"
   ]
  },
  {
   "cell_type": "code",
   "execution_count": null,
   "metadata": {},
   "outputs": [],
   "source": [
    "DATABASE_TYPE = 'postgresql'\n",
    "DBAPI = 'psycopg2'\n",
    "HOST = 'localhost'\n",
    "USER = 'postgres'\n",
    "PASSWORD = 'C0balamin'\n",
    "DATABASE = 'pagila'\n",
    "PORT = 5432\n",
    "db_conn = f\"{DATABASE_TYPE}+{DBAPI}://{USER}:{PASSWORD}@{HOST}:{PORT}/{DATABASE}\"\n",
    "db_storage = DBStorage(db_conn)\n",
    "db_storage.upsert_df(df_recipe, 'recipe')\n"
   ]
  }
 ],
 "metadata": {
  "interpreter": {
   "hash": "ef407c54533c66ba98c613f4d8feb3f4010c5afd02da735ae5c0fa3afd5eab08"
  },
  "kernelspec": {
   "display_name": "Python 3.9.12 ('dc-env')",
   "language": "python",
   "name": "python3"
  },
  "language_info": {
   "codemirror_mode": {
    "name": "ipython",
    "version": 3
   },
   "file_extension": ".py",
   "mimetype": "text/x-python",
   "name": "python",
   "nbconvert_exporter": "python",
   "pygments_lexer": "ipython3",
   "version": "3.9.12"
  },
  "orig_nbformat": 4
 },
 "nbformat": 4,
 "nbformat_minor": 2
}
